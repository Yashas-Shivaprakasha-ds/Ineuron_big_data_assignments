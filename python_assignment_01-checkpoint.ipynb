{
 "cells": [
  {
   "cell_type": "markdown",
   "id": "4c2010f5",
   "metadata": {},
   "source": [
    "# Q1. Why do we call Python as a general purpose and high-level programming language?\n",
    "Python is easy for humans to understand and It is based around objects rather than function(i.e, Object oriented)"
   ]
  },
  {
   "cell_type": "markdown",
   "id": "11bc3753",
   "metadata": {},
   "source": [
    "# Q2. Why is Python called a dynamically typed language?\n",
    "Python is called a dynamically typed language because type of the variable is determined only during runtime. It stores that value at some memory location and then binds that variable name to that memory container."
   ]
  },
  {
   "cell_type": "markdown",
   "id": "2dc34d01",
   "metadata": {},
   "source": [
    "# Q3. List some pros and cons of Python programming language?\n",
    "Pros of Python Programming Language:\n",
    "1. Python has extensive libraries which can be used for developing websites and software, data analysis, and data visualization\n",
    "2. It is easy to use and has increased productivity.\n",
    "3. It is Easily Portable\n",
    "\n",
    "Cons of Python Programming language:\n",
    "1. It is slower than compiled languages like(C, C++,Java).\n",
    "2. It has Inefficient Memory Consumption.\n",
    "3. It has problems with multithreading\n"
   ]
  },
  {
   "cell_type": "markdown",
   "id": "34cdf5ef",
   "metadata": {},
   "source": [
    "# Q4. In what all domains can we use Python?\n",
    "Python can be used in following domains:\n",
    "1. Data Engineering\n",
    "2. Data Science\n",
    "3. Data Analytics\n",
    "4. Web Development \n",
    "5. Scientific programming\n",
    "6. GUI Interface\n",
    "7. Gaming"
   ]
  },
  {
   "cell_type": "markdown",
   "id": "a3390d15",
   "metadata": {},
   "source": [
    "# Q5. What are variable and how can we declare them?\n",
    "Variables are specific name given to memory location where the values are stored.\n",
    "\n",
    "Syntax: Varname = value\n"
   ]
  },
  {
   "cell_type": "markdown",
   "id": "d4fd9418",
   "metadata": {},
   "source": [
    "# 6. How can we take an input from the user in Python?\n",
    "By using inbuilt function input()\n",
    "\n",
    "Eg: int_var = input(\"Enter a integer value\")"
   ]
  },
  {
   "cell_type": "markdown",
   "id": "1620691a",
   "metadata": {},
   "source": [
    "# Q7. What is the default datatype of the value that has been taken as an input using input() function?\n",
    "String(str)"
   ]
  },
  {
   "cell_type": "code",
   "execution_count": 5,
   "id": "408c0793",
   "metadata": {},
   "outputs": [
    {
     "name": "stdout",
     "output_type": "stream",
     "text": [
      "Enter a value: 12\n",
      "<class 'str'>\n"
     ]
    }
   ],
   "source": [
    "var_input = input(\"Enter a value: \")\n",
    "print(type(var_input))"
   ]
  },
  {
   "cell_type": "markdown",
   "id": "6b918b8a",
   "metadata": {},
   "source": [
    "# Q8. What is type casting?\n",
    "Converting one data type to another data type is type casting.\n",
    "\n",
    "\n"
   ]
  },
  {
   "cell_type": "code",
   "execution_count": 7,
   "id": "41901560",
   "metadata": {},
   "outputs": [
    {
     "name": "stdout",
     "output_type": "stream",
     "text": [
      "<class 'int'>\n",
      "<class 'str'>\n"
     ]
    }
   ],
   "source": [
    "int_value = 2\n",
    "print(type(int_value))\n",
    "\n",
    "type_casted_value = str(int_value)\n",
    "print(type(type_casted_value))"
   ]
  },
  {
   "cell_type": "markdown",
   "id": "0ea62525",
   "metadata": {},
   "source": [
    "# Q10. What are keywords?\n",
    "Keywords are predefined words or reserved words in python and It is case sensitive"
   ]
  },
  {
   "cell_type": "code",
   "execution_count": 4,
   "id": "faf6f7be",
   "metadata": {},
   "outputs": [
    {
     "name": "stdout",
     "output_type": "stream",
     "text": [
      "['False', 'None', 'True', '__peg_parser__', 'and', 'as', 'assert', 'async', 'await', 'break', 'class', 'continue', 'def', 'del', 'elif', 'else', 'except', 'finally', 'for', 'from', 'global', 'if', 'import', 'in', 'is', 'lambda', 'nonlocal', 'not', 'or', 'pass', 'raise', 'return', 'try', 'while', 'with', 'yield']\n"
     ]
    }
   ],
   "source": [
    "import keyword\n",
    "print(keyword.kwlist)"
   ]
  },
  {
   "cell_type": "markdown",
   "id": "c93cef59",
   "metadata": {},
   "source": [
    "# Q11. Can we use keywords as a variable? Support your answer with reason.\n",
    "No, keywords cannot be used as a variable because If we assign keyword to variable we will get a SyntaxError. "
   ]
  },
  {
   "cell_type": "code",
   "execution_count": 5,
   "id": "d542ff02",
   "metadata": {},
   "outputs": [
    {
     "ename": "SyntaxError",
     "evalue": "invalid syntax (Temp/ipykernel_12992/2227976289.py, line 1)",
     "output_type": "error",
     "traceback": [
      "\u001b[1;36m  File \u001b[1;32m\"C:\\Users\\SHIVAR~1\\AppData\\Local\\Temp/ipykernel_12992/2227976289.py\"\u001b[1;36m, line \u001b[1;32m1\u001b[0m\n\u001b[1;33m    if = \"error\"\u001b[0m\n\u001b[1;37m       ^\u001b[0m\n\u001b[1;31mSyntaxError\u001b[0m\u001b[1;31m:\u001b[0m invalid syntax\n"
     ]
    }
   ],
   "source": [
    "if = \"error\"\n",
    "print(if)"
   ]
  },
  {
   "cell_type": "markdown",
   "id": "a824c8ba",
   "metadata": {},
   "source": [
    "# Q12. What is indentation? What's the use of indentaion in Python?\n",
    "Indentation refers to spaces which defines a block of code.\n",
    "The code block(body of a function,loops etc) starts with identation and ends with the first unintended line."
   ]
  },
  {
   "cell_type": "code",
   "execution_count": 3,
   "id": "d3b560f6",
   "metadata": {},
   "outputs": [
    {
     "name": "stdout",
     "output_type": "stream",
     "text": [
      "0\n",
      "1\n",
      "2\n",
      "3\n",
      "4\n",
      "5\n",
      "6\n",
      "7\n",
      "8\n",
      "9\n"
     ]
    }
   ],
   "source": [
    "for i in range(10):\n",
    "    print(i)"
   ]
  },
  {
   "cell_type": "markdown",
   "id": "bc857f8e",
   "metadata": {},
   "source": [
    "# Q13. How can we throw some output in Python?\n",
    "By using inbuilt function print()"
   ]
  },
  {
   "cell_type": "code",
   "execution_count": 6,
   "id": "a86a6757",
   "metadata": {},
   "outputs": [
    {
     "name": "stdout",
     "output_type": "stream",
     "text": [
      "Ineuron assignment\n"
     ]
    }
   ],
   "source": [
    "print(\"Ineuron assignment\")"
   ]
  },
  {
   "cell_type": "markdown",
   "id": "87b05b8c",
   "metadata": {},
   "source": [
    "# Q14. What are operators in Python?\n",
    "Operators are special symbols in python that carry out arithmetic or logical computations.The value that the operator operates on is called operand.\n",
    "\n",
    "Operator Types:\n",
    "1. Arithmetic Operators.\n",
    "2. Relational Operators.\n",
    "3. Boolean Operators.\n",
    "4. Bitwise Operators.\n",
    "5. Assignement Operators.\n",
    "6. Special Opeartors(Identity Operator and Membership Operator)\n"
   ]
  },
  {
   "cell_type": "markdown",
   "id": "dd34f93a",
   "metadata": {},
   "source": [
    "# Q15. What is difference between / and // operators?\n",
    "\n",
    "1. / (Float Divison): This operator divides left operand with right operand and gives the result value in floating values if present. Eg: 5/2 = 2.5\n",
    "2. // (Integer Divison): This operator divides  left operand with right operand and gives the near lowest whole number Eg: 5//2 = 2"
   ]
  },
  {
   "cell_type": "markdown",
   "id": "b64e5a4c",
   "metadata": {},
   "source": [
    "# Q16. Write a code that gives following as an output.\n",
    "```\n",
    "iNeuroniNeuroniNeuroniNeuron\n",
    "```\n"
   ]
  },
  {
   "cell_type": "code",
   "execution_count": 2,
   "id": "31181a93",
   "metadata": {},
   "outputs": [
    {
     "name": "stdout",
     "output_type": "stream",
     "text": [
      "iNeuroniNeuroniNeuroniNeuron\n"
     ]
    }
   ],
   "source": [
    "print_output = \"iNeuron\" * 4\n",
    "print(print_output)"
   ]
  },
  {
   "cell_type": "markdown",
   "id": "2edcb312",
   "metadata": {},
   "source": [
    "# Q17. Write a code to take a number as an input from the user and check if the number is odd or even.\n"
   ]
  },
  {
   "cell_type": "code",
   "execution_count": 5,
   "id": "9036d7e6",
   "metadata": {},
   "outputs": [
    {
     "name": "stdout",
     "output_type": "stream",
     "text": [
      "Enter a number: 12\n",
      "the number is even\n"
     ]
    }
   ],
   "source": [
    "num_input = int(input(\"Enter a number: \"))\n",
    "if num_input % 2 == 0:\n",
    "    print(\"the number is even\")\n",
    "else:\n",
    "    print(\"the number is odd\")"
   ]
  },
  {
   "cell_type": "markdown",
   "id": "e06efd5d",
   "metadata": {},
   "source": [
    "# Q18. What are boolean operator?\n",
    "Boolean opeartors(logical opertors) are the operators gives only two results i.e, either True or False.\n",
    "In Python, There are three boolean operators:\n",
    "\n",
    "1. AND: It is a operator used to return output as true if both the condition is True. If any one of condition is false, it returns False. \n",
    "\n",
    "2. OR : t is a operator used to return output as true if any one of the condition is True. If both the condition are  false, it returns False.\n",
    "\n",
    "3. NOT: It is used to give negation result of specified data."
   ]
  },
  {
   "cell_type": "code",
   "execution_count": 2,
   "id": "c2bcb918",
   "metadata": {},
   "outputs": [
    {
     "name": "stdout",
     "output_type": "stream",
     "text": [
      "False\n",
      "True\n",
      "True\n",
      "False\n",
      "True\n"
     ]
    }
   ],
   "source": [
    "a, b, c, d = True , False, True, False\n",
    "\n",
    "# AND Operation\n",
    "print(a and b)\n",
    "print(a and c)\n",
    "\n",
    "# OR Operation\n",
    "print(a or b)\n",
    "print(b or d)\n",
    "\n",
    "# Not Operation\n",
    "print(not b)\n"
   ]
  },
  {
   "cell_type": "markdown",
   "id": "47666f5e",
   "metadata": {},
   "source": [
    "# Q19. What will the output of the following?\n",
    "```\n",
    "1 or 0 = 1\n",
    "\n",
    "0 and 0 = 0\n",
    "\n",
    "True and False and True = False\n",
    "\n",
    "1 or 0 or 0 = 1\n",
    "```"
   ]
  },
  {
   "cell_type": "markdown",
   "id": "b10f7bbb",
   "metadata": {},
   "source": [
    "# Q20. What are conditional statements in Python?\n",
    "Conditional statement are also called as Decision Statements which is used to execute certain set of statements based on specified condtion.\n",
    "\n",
    "1.if\n",
    "\n",
    "2.if-else\n",
    "\n",
    "3.elif\n",
    "\n",
    "4.nested if\n"
   ]
  },
  {
   "cell_type": "markdown",
   "id": "9544434d",
   "metadata": {},
   "source": [
    "# Q21. What is use of 'if', 'elif' and 'else' keywords?\n",
    "If: the program evaluates the condition and will execute statements only if given condition is True.\n",
    "\n",
    "Syntax: if (Condtion):\n",
    "            statement\n",
    "            \n",
    "Elif: Elif keyword executes multiple conditions by including one or more check after if keyword is executed.\n",
    "\n",
    "Syntax: if (Condtion):\n",
    "            statement\n",
    "        elif(condtion):\n",
    "        statement\n",
    "        \n",
    "Else: Else keyword provides the output if (If) condition is False. \n",
    "Syntax: if (Condtion):\n",
    "            statement\n",
    "        else:\n",
    "        statement\n"
   ]
  },
  {
   "cell_type": "markdown",
   "id": "7df2a702",
   "metadata": {},
   "source": [
    "# Q22. Write a code to take the age of person as an input and if age >= 18 display \"I can vote\". If age is < 18 display \"I can't vote\"."
   ]
  },
  {
   "cell_type": "code",
   "execution_count": 9,
   "id": "11cc0114",
   "metadata": {},
   "outputs": [
    {
     "name": "stdout",
     "output_type": "stream",
     "text": [
      "Enter a age: -1\n",
      "The age provided is not valid\n"
     ]
    }
   ],
   "source": [
    "age_input = int(input(\"Enter a age: \"))\n",
    "if age_input < 0:\n",
    "    print(\"The age provided is not valid\")\n",
    "elif age_input >= 18:\n",
    "    print(\" I can vote\")\n",
    "else:\n",
    "    print(\" I can't vote\")"
   ]
  },
  {
   "cell_type": "markdown",
   "id": "ae36fb83",
   "metadata": {},
   "source": [
    "# Q23. Write a code that displays the sum of all the even numbers from the given list.\n",
    "```\n",
    "numbers = [12, 75, 150, 180, 145, 525, 50]\n",
    "```"
   ]
  },
  {
   "cell_type": "code",
   "execution_count": 15,
   "id": "da8e456c",
   "metadata": {},
   "outputs": [
    {
     "name": "stdout",
     "output_type": "stream",
     "text": [
      "392\n"
     ]
    }
   ],
   "source": [
    "numbers = [12, 75, 150, 180, 145, 525, 50]\n",
    "sum_of_numbers = 0\n",
    "for i in numbers:\n",
    "    if i % 2 == 0:\n",
    "        sum_of_numbers = sum_of_numbers + i\n",
    "print(sum_of_numbers)\n",
    "    "
   ]
  },
  {
   "cell_type": "markdown",
   "id": "4cbba18a",
   "metadata": {},
   "source": [
    "# Q24. Write a code to take 3 numbers as an input from the user and display the greatest no as output.\n"
   ]
  },
  {
   "cell_type": "code",
   "execution_count": 17,
   "id": "bd26e276",
   "metadata": {},
   "outputs": [
    {
     "name": "stdout",
     "output_type": "stream",
     "text": [
      "Enter the number 1: 25\n",
      "Enter the number 2: 12\n",
      "Enter the number 3: 10\n",
      "number 1 is greater\n"
     ]
    }
   ],
   "source": [
    "num_1 = int(input(\"Enter the number 1: \"))\n",
    "num_2 = int(input(\"Enter the number 2: \"))\n",
    "num_3 = int(input(\"Enter the number 3: \"))\n",
    "if num_1 > num_2 and num_1 >  num_3:\n",
    "    print(\"number 1 is greater\")\n",
    "elif num_2 > num_1 and num_2 > num_3:\n",
    "    print(\"number 2 is greater\")\n",
    "else:\n",
    "    print(\"number 3 is greater\")\n",
    "    \n",
    "    \n",
    "\n"
   ]
  },
  {
   "cell_type": "markdown",
   "id": "c21fd6be",
   "metadata": {},
   "source": [
    "# Q25. Write a program to display only those numbers from a list that satisfy the following conditions\n",
    "\n",
    "- The number must be divisible by five\n",
    "\n",
    "- If the number is greater than 150, then skip it and move to the next number\n",
    "\n",
    "- If the number is greater than 500, then stop the loop\n",
    "```\n",
    "numbers = [12, 75, 150, 180, 145, 525, 50]"
   ]
  },
  {
   "cell_type": "code",
   "execution_count": 24,
   "id": "edfb036c",
   "metadata": {},
   "outputs": [
    {
     "name": "stdout",
     "output_type": "stream",
     "text": [
      "[75, 150, 180, 145, 525]\n"
     ]
    }
   ],
   "source": [
    "numbers = [12, 75, 150, 180, 145, 525, 50]\n",
    "resulting_list = []\n",
    "for i in numbers:\n",
    "    if i > 150:\n",
    "        if i > 500:\n",
    "            break\n",
    "        continue\n",
    "    if i % 5 == 0:\n",
    "        resulting_list.append(i)\n",
    "        \n",
    "print(resulting_list)\n",
    "        "
   ]
  },
  {
   "cell_type": "code",
   "execution_count": null,
   "id": "fb106d30",
   "metadata": {},
   "outputs": [],
   "source": []
  }
 ],
 "metadata": {
  "kernelspec": {
   "display_name": "Python 3 (ipykernel)",
   "language": "python",
   "name": "python3"
  },
  "language_info": {
   "codemirror_mode": {
    "name": "ipython",
    "version": 3
   },
   "file_extension": ".py",
   "mimetype": "text/x-python",
   "name": "python",
   "nbconvert_exporter": "python",
   "pygments_lexer": "ipython3",
   "version": "3.9.7"
  }
 },
 "nbformat": 4,
 "nbformat_minor": 5
}
